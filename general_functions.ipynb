{
 "cells": [
  {
   "cell_type": "code",
   "execution_count": 2,
   "metadata": {
    "collapsed": true
   },
   "outputs": [],
   "source": [
    "import sys\n",
    "import os\n",
    "import json\n",
    "\n",
    "from lshash import LSHash\n",
    "import numpy as np\n",
    "\n",
    "from collections import Counter, OrderedDict\n",
    "from gensim import corpora, models, similarities\n",
    "from nltk.corpus import stopwords\n",
    "from nltk.stem.porter import PorterStemmer\n",
    "\n",
    "import re\n",
    "from datetime import datetime\n",
    "import string\n",
    "\n",
    "reload(sys)\n",
    "sys.setdefaultencoding('utf-8')\n",
    "\n",
    "from gensim import matutils\n"
   ]
  },
  {
   "cell_type": "markdown",
   "metadata": {},
   "source": [
    "- ***Text pre-processing functions***"
   ]
  },
  {
   "cell_type": "code",
   "execution_count": 3,
   "metadata": {
    "collapsed": true
   },
   "outputs": [],
   "source": [
    "def stem_doc(doc):\n",
    "    #stemmer\n",
    "    st = PorterStemmer()    \n",
    "    stemmed_doc = [st.stem(word) for word in doc.split(\" \")]\n",
    "    return \" \".join(stemmed_doc) \n",
    "\n",
    "def remove_all_punct(doc):\n",
    "    exclude = set(string.punctuation)\n",
    "    exclude.add('\\r')\n",
    "    exclude.add('\\n')\n",
    "    doc = ''.join(ch for ch in doc if ch not in exclude)\n",
    "    return doc\n",
    "\n",
    "def remove_punct(doc):\n",
    "    exclude = set(string.punctuation)\n",
    "    exclude.add('\\r')\n",
    "    exclude.add('\\n')\n",
    "    exclude.remove('#')\n",
    "    doc = ''.join(ch for ch in doc if ch not in exclude)\n",
    "    return doc\n",
    "\n",
    "def remove_mentions(doc):\n",
    "    noment_doc = [i for i in doc.lower().split() if '@' not in i]\n",
    "    return \" \".join(noment_doc) \n",
    "\n",
    "def remove_stop_words(doc):\n",
    "    stopped_doc = [i for i in doc.lower().split() if (i not in stop_en) and (i not in stop_sp)]\n",
    "    return \" \".join(stopped_doc) \n",
    "\n",
    "def remove_urls(txt):\n",
    "    urls = re.findall('http[s]?://(?:[a-zA-Z]|[0-9]|[$-_@.&+]|[!*\\(\\),]|(?:%[0-9a-fA-F][0-9a-fA-F]))+', txt)\n",
    "    for url in urls:\n",
    "        txt = txt.replace(url,'')\n",
    "    return txt\n",
    "\n",
    "# we do not need to use this function because I added 'rt' to the stop words list\n",
    "def remove_rt_str(txt):\n",
    "    return txt.lower().replace('rt ', '')\n",
    "   "
   ]
  },
  {
   "cell_type": "markdown",
   "metadata": {},
   "source": [
    "- ***Compute cosine similarity for sparse vectors***"
   ]
  },
  {
   "cell_type": "code",
   "execution_count": 4,
   "metadata": {
    "collapsed": true
   },
   "outputs": [],
   "source": [
    "\n",
    "\n",
    "\"\"\" Calculate cosine similarity of two sparse vectors. \"\"\"\n",
    "def sparse_cos_sim(sv1, sv2):\n",
    "    mag_prod = sparse_magnitude(sv1) * sparse_magnitude(sv2)\n",
    "    if mag_prod == 0:\n",
    "        return 0\n",
    "    return float(sparse_dot_product(sv1, sv2) / mag_prod)\n",
    "\n",
    "\n",
    "\"\"\" Calculate dot product of two sparse vectors. \"\"\"  \n",
    "def sparse_dot_product(sv1, sv2):\n",
    "    d1 = dict(sv1)\n",
    "    d2 = dict(sv2)\n",
    "    tot = 0\n",
    "    for key in set(d1.keys()).intersection(set(d2.keys())):\n",
    "        tot += d1[key] * d2[key]\n",
    "#         print key, tot\n",
    "    return tot\n",
    "\n",
    "\"\"\" Calculate magnitude of a sparse vector. \"\"\"\n",
    "def sparse_magnitude(sv):\n",
    "    return sum(v**2 for (a, v) in sv)**0.5\n",
    "\n",
    "\"\"\" Calculate dot product of a sparse vector 'sv' against a dense vector 'dv'.\n",
    "    The sparse vector format is described below. No bounds checking is done,\n",
    "    so make sure it doesn't exceed the size of 'dv'. \"\"\"\n",
    "def mixed_dot_product(sv, dv):\n",
    "    tot = 0\n",
    "    for (idx, val) in sv:\n",
    "        try:\n",
    "            tot += val * dv[idx]\n",
    "        except:pass\n",
    "\n",
    "    return tot\n",
    "\n"
   ]
  },
  {
   "cell_type": "code",
   "execution_count": null,
   "metadata": {},
   "outputs": [],
   "source": []
  }
 ],
 "metadata": {
  "kernelspec": {
   "display_name": "Python 2",
   "language": "python",
   "name": "python2"
  },
  "language_info": {
   "codemirror_mode": {
    "name": "ipython",
    "version": 2
   },
   "file_extension": ".py",
   "mimetype": "text/x-python",
   "name": "python",
   "nbconvert_exporter": "python",
   "pygments_lexer": "ipython2",
   "version": "2.7.10"
  }
 },
 "nbformat": 4,
 "nbformat_minor": 0
}
